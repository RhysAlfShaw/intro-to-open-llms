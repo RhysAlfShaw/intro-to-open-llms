{
 "cells": [
  {
   "cell_type": "code",
   "execution_count": null,
   "id": "0c784cda",
   "metadata": {},
   "outputs": [],
   "source": [
    "!pip install transformers"
   ]
  },
  {
   "cell_type": "code",
   "execution_count": null,
   "id": "1b911827",
   "metadata": {},
   "outputs": [],
   "source": [
    "# lets load a small model. Lets use distilbert/distilgpt2 as this is a small model.\n",
    "from transformers import AutoModelForCausalLM, AutoTokenizer\n",
    "\n",
    "model_name = \"distilbert/distilgpt2\"\n",
    "\n",
    "# load the tokenizer, to convert text to tokens and numbers\n",
    "tokenizer = AutoTokenizer.from_pretrained(model_name)\n",
    "\n",
    "# load the model, the transformer model neural network we will use for inference.\n",
    "model = AutoModelForCausalLM.from_pretrained(model_name)\n",
    "\n",
    "prompt = \"The capital of France is\"\n",
    "\n",
    "response = model.generate(\n",
    "    input_ids=tokenizer.encode(prompt, return_tensors=\"pt\"), # encode the prompt text to tokens\n",
    "    max_length=50, # set a maximum length for the generated text.\n",
    ")\n",
    "\n",
    "# print the generated text\n",
    "print(tokenizer.decode(response[0], skip_special_tokens=True))"
   ]
  }
 ],
 "metadata": {
  "kernelspec": {
   "display_name": "base",
   "language": "python",
   "name": "python3"
  },
  "language_info": {
   "codemirror_mode": {
    "name": "ipython",
    "version": 3
   },
   "file_extension": ".py",
   "mimetype": "text/x-python",
   "name": "python",
   "nbconvert_exporter": "python",
   "pygments_lexer": "ipython3",
   "version": "3.9.13"
  }
 },
 "nbformat": 4,
 "nbformat_minor": 5
}
