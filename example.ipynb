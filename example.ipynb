{
 "cells": [
  {
   "cell_type": "code",
   "execution_count": null,
   "id": "1b911827",
   "metadata": {},
   "outputs": [],
   "source": [
    "# lets load a small model. Lets use distilbert/distilgpt2 as this is a small model.\n",
    "from transformers import AutoModelForCausalLM, AutoTokenizer\n",
    "model_name = \"distilbert/distilgpt2\"\n",
    "tokenizer = AutoTokenizer.from_pretrained(model_name)\n",
    "model = AutoModelForCausalLM.from_pretrained(model_name)\n",
    "prompt = \"The capital of France is\"\n",
    "response = model.generate(\n",
    "    input_ids=tokenizer.encode(prompt, return_tensors=\"pt\"), # encode the prompt text to tokens\n",
    "    max_length=50, # set a maximum length for the generated text.\n",
    ")\n",
    "# print the generated text\n",
    "print(tokenizer.decode(response[0], skip_special_tokens=True))"
   ]
  },
  {
   "cell_type": "code",
   "execution_count": null,
   "id": "0f77d247",
   "metadata": {},
   "outputs": [],
   "source": [
    "from llama_cpp import Llama \n",
    "prompt = \"Q. What is the Capital of France\" # based on model\n",
    "\n",
    "llm = Llama(model_path=\"distilgpt2-Q2_K.gguf\", n_threads=1,verbose=False,)\n",
    "output = llm(\n",
    "    prompt, \n",
    "    max_tokens=50,\n",
    "    echo=True # Echo the prompt back in the output\n",
    ")\n",
    "print(output)"
   ]
  }
 ],
 "metadata": {
  "kernelspec": {
   "display_name": "llm-example-env",
   "language": "python",
   "name": "python3"
  },
  "language_info": {
   "codemirror_mode": {
    "name": "ipython",
    "version": 3
   },
   "file_extension": ".py",
   "mimetype": "text/x-python",
   "name": "python",
   "nbconvert_exporter": "python",
   "pygments_lexer": "ipython3",
   "version": "3.12.10"
  }
 },
 "nbformat": 4,
 "nbformat_minor": 5
}
